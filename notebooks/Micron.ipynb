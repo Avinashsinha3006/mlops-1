{
 "cells": [
  {
   "cell_type": "code",
   "execution_count": 4,
   "metadata": {},
   "outputs": [],
   "source": [
    "#pip install xgboost"
   ]
  },
  {
   "cell_type": "code",
   "execution_count": 5,
   "metadata": {},
   "outputs": [],
   "source": [
    "#pip install gunicorn"
   ]
  },
  {
   "cell_type": "code",
   "execution_count": 6,
   "metadata": {},
   "outputs": [
    {
     "data": {
      "text/plain": [
       "<Figure size 720x540 with 0 Axes>"
      ]
     },
     "metadata": {},
     "output_type": "display_data"
    }
   ],
   "source": [
    "#importing all the libraries\n",
    "\n",
    "import pandas as pd\n",
    "import numpy as np\n",
    "import seaborn as sns\n",
    "from matplotlib import pyplot as plt\n",
    "import os\n",
    "import xgboost as xgb\n",
    "from sklearn.utils import class_weight\n",
    "from sklearn.model_selection import train_test_split\n",
    "from sklearn.preprocessing import StandardScaler\n",
    "from sklearn.metrics import confusion_matrix\n",
    "import pickle\n",
    "from sklearn.ensemble import RandomForestClassifier\n",
    "from sklearn.model_selection import GridSearchCV, KFold\n",
    "from xgboost import XGBClassifier\n",
    "import warnings\n",
    "warnings.filterwarnings(\"ignore\")\n",
    "%matplotlib inline\n",
    "plt.rcParams[\"figure.figsize\"]=10,7.5\n",
    "plt.rcParams[\"axes.grid\"]=True\n",
    "plt.gray()\n"
   ]
  },
  {
   "cell_type": "code",
   "execution_count": 7,
   "metadata": {},
   "outputs": [
    {
     "data": {
      "text/html": [
       "<div>\n",
       "<style scoped>\n",
       "    .dataframe tbody tr th:only-of-type {\n",
       "        vertical-align: middle;\n",
       "    }\n",
       "\n",
       "    .dataframe tbody tr th {\n",
       "        vertical-align: top;\n",
       "    }\n",
       "\n",
       "    .dataframe thead th {\n",
       "        text-align: right;\n",
       "    }\n",
       "</style>\n",
       "<table border=\"1\" class=\"dataframe\">\n",
       "  <thead>\n",
       "    <tr style=\"text-align: right;\">\n",
       "      <th></th>\n",
       "      <th>0</th>\n",
       "      <th>1</th>\n",
       "      <th>2</th>\n",
       "      <th>3</th>\n",
       "      <th>4</th>\n",
       "      <th>5</th>\n",
       "      <th>6</th>\n",
       "      <th>7</th>\n",
       "      <th>8</th>\n",
       "      <th>9</th>\n",
       "      <th>...</th>\n",
       "      <th>142</th>\n",
       "      <th>143</th>\n",
       "      <th>144</th>\n",
       "      <th>145</th>\n",
       "      <th>146</th>\n",
       "      <th>147</th>\n",
       "      <th>148</th>\n",
       "      <th>149</th>\n",
       "      <th>150</th>\n",
       "      <th>target</th>\n",
       "    </tr>\n",
       "  </thead>\n",
       "  <tbody>\n",
       "    <tr>\n",
       "      <th>0</th>\n",
       "      <td>0.899922</td>\n",
       "      <td>-0.161</td>\n",
       "      <td>-0.244</td>\n",
       "      <td>1.022</td>\n",
       "      <td>-0.304</td>\n",
       "      <td>-0.156</td>\n",
       "      <td>-0.310</td>\n",
       "      <td>12.06400</td>\n",
       "      <td>-0.051</td>\n",
       "      <td>462.092</td>\n",
       "      <td>...</td>\n",
       "      <td>764.3</td>\n",
       "      <td>-0.005</td>\n",
       "      <td>0.060303</td>\n",
       "      <td>13.383</td>\n",
       "      <td>0.819909</td>\n",
       "      <td>-0.18291</td>\n",
       "      <td>-0.12259</td>\n",
       "      <td>0.060684</td>\n",
       "      <td>17.1094</td>\n",
       "      <td>0</td>\n",
       "    </tr>\n",
       "    <tr>\n",
       "      <th>1</th>\n",
       "      <td>1.050575</td>\n",
       "      <td>-0.285</td>\n",
       "      <td>-0.298</td>\n",
       "      <td>-0.776</td>\n",
       "      <td>-0.263</td>\n",
       "      <td>-0.118</td>\n",
       "      <td>1.526</td>\n",
       "      <td>9.92919</td>\n",
       "      <td>-0.059</td>\n",
       "      <td>466.645</td>\n",
       "      <td>...</td>\n",
       "      <td>532.5</td>\n",
       "      <td>-0.023</td>\n",
       "      <td>0.044870</td>\n",
       "      <td>14.887</td>\n",
       "      <td>1.642613</td>\n",
       "      <td>-0.19030</td>\n",
       "      <td>-0.12308</td>\n",
       "      <td>0.045252</td>\n",
       "      <td>17.0932</td>\n",
       "      <td>0</td>\n",
       "    </tr>\n",
       "    <tr>\n",
       "      <th>2</th>\n",
       "      <td>-1.206626</td>\n",
       "      <td>-0.202</td>\n",
       "      <td>-0.289</td>\n",
       "      <td>1.099</td>\n",
       "      <td>-0.302</td>\n",
       "      <td>-0.176</td>\n",
       "      <td>-0.330</td>\n",
       "      <td>11.07720</td>\n",
       "      <td>-0.075</td>\n",
       "      <td>419.784</td>\n",
       "      <td>...</td>\n",
       "      <td>651.4</td>\n",
       "      <td>-0.035</td>\n",
       "      <td>0.054069</td>\n",
       "      <td>-2.932</td>\n",
       "      <td>0.464588</td>\n",
       "      <td>-0.18631</td>\n",
       "      <td>-0.12413</td>\n",
       "      <td>0.050065</td>\n",
       "      <td>17.2080</td>\n",
       "      <td>0</td>\n",
       "    </tr>\n",
       "    <tr>\n",
       "      <th>3</th>\n",
       "      <td>-1.082795</td>\n",
       "      <td>-0.125</td>\n",
       "      <td>1.748</td>\n",
       "      <td>2.167</td>\n",
       "      <td>-0.239</td>\n",
       "      <td>-0.242</td>\n",
       "      <td>-0.292</td>\n",
       "      <td>9.39798</td>\n",
       "      <td>-0.045</td>\n",
       "      <td>433.346</td>\n",
       "      <td>...</td>\n",
       "      <td>603.4</td>\n",
       "      <td>-0.008</td>\n",
       "      <td>0.043571</td>\n",
       "      <td>-44.990</td>\n",
       "      <td>0.335563</td>\n",
       "      <td>-0.19257</td>\n",
       "      <td>-0.11309</td>\n",
       "      <td>0.045097</td>\n",
       "      <td>17.5977</td>\n",
       "      <td>0</td>\n",
       "    </tr>\n",
       "    <tr>\n",
       "      <th>4</th>\n",
       "      <td>0.891784</td>\n",
       "      <td>-0.219</td>\n",
       "      <td>1.757</td>\n",
       "      <td>-0.782</td>\n",
       "      <td>-0.268</td>\n",
       "      <td>-0.099</td>\n",
       "      <td>-0.239</td>\n",
       "      <td>9.42913</td>\n",
       "      <td>-0.067</td>\n",
       "      <td>429.280</td>\n",
       "      <td>...</td>\n",
       "      <td>417.4</td>\n",
       "      <td>-0.025</td>\n",
       "      <td>0.041588</td>\n",
       "      <td>-12.205</td>\n",
       "      <td>-0.728111</td>\n",
       "      <td>-0.18187</td>\n",
       "      <td>-0.12143</td>\n",
       "      <td>0.043112</td>\n",
       "      <td>17.2664</td>\n",
       "      <td>0</td>\n",
       "    </tr>\n",
       "  </tbody>\n",
       "</table>\n",
       "<p>5 rows × 152 columns</p>\n",
       "</div>"
      ],
      "text/plain": [
       "          0      1      2      3      4      5      6         7      8  \\\n",
       "0  0.899922 -0.161 -0.244  1.022 -0.304 -0.156 -0.310  12.06400 -0.051   \n",
       "1  1.050575 -0.285 -0.298 -0.776 -0.263 -0.118  1.526   9.92919 -0.059   \n",
       "2 -1.206626 -0.202 -0.289  1.099 -0.302 -0.176 -0.330  11.07720 -0.075   \n",
       "3 -1.082795 -0.125  1.748  2.167 -0.239 -0.242 -0.292   9.39798 -0.045   \n",
       "4  0.891784 -0.219  1.757 -0.782 -0.268 -0.099 -0.239   9.42913 -0.067   \n",
       "\n",
       "         9  ...    142    143       144     145       146      147      148  \\\n",
       "0  462.092  ...  764.3 -0.005  0.060303  13.383  0.819909 -0.18291 -0.12259   \n",
       "1  466.645  ...  532.5 -0.023  0.044870  14.887  1.642613 -0.19030 -0.12308   \n",
       "2  419.784  ...  651.4 -0.035  0.054069  -2.932  0.464588 -0.18631 -0.12413   \n",
       "3  433.346  ...  603.4 -0.008  0.043571 -44.990  0.335563 -0.19257 -0.11309   \n",
       "4  429.280  ...  417.4 -0.025  0.041588 -12.205 -0.728111 -0.18187 -0.12143   \n",
       "\n",
       "        149      150  target  \n",
       "0  0.060684  17.1094       0  \n",
       "1  0.045252  17.0932       0  \n",
       "2  0.050065  17.2080       0  \n",
       "3  0.045097  17.5977       0  \n",
       "4  0.043112  17.2664       0  \n",
       "\n",
       "[5 rows x 152 columns]"
      ]
     },
     "execution_count": 7,
     "metadata": {},
     "output_type": "execute_result"
    }
   ],
   "source": [
    "#importing the data set\n",
    "\n",
    "data=pd.read_csv(\"../given_data/Q6_data.csv\")\n",
    "data.head(5)"
   ]
  },
  {
   "cell_type": "code",
   "execution_count": 8,
   "metadata": {},
   "outputs": [],
   "source": [
    "#data.describe()"
   ]
  },
  {
   "cell_type": "code",
   "execution_count": 9,
   "metadata": {},
   "outputs": [
    {
     "name": "stdout",
     "output_type": "stream",
     "text": [
      "<class 'pandas.core.frame.DataFrame'>\n",
      "RangeIndex: 10241 entries, 0 to 10240\n",
      "Columns: 152 entries, 0 to target\n",
      "dtypes: float64(143), int64(9)\n",
      "memory usage: 11.9 MB\n"
     ]
    }
   ],
   "source": [
    "#checking the type of data\n",
    "\n",
    "data.info()"
   ]
  },
  {
   "cell_type": "code",
   "execution_count": 10,
   "metadata": {},
   "outputs": [],
   "source": [
    "data = data.astype(\"float\")"
   ]
  },
  {
   "cell_type": "code",
   "execution_count": 11,
   "metadata": {},
   "outputs": [
    {
     "name": "stdout",
     "output_type": "stream",
     "text": [
      "<class 'pandas.core.frame.DataFrame'>\n",
      "RangeIndex: 10241 entries, 0 to 10240\n",
      "Columns: 152 entries, 0 to target\n",
      "dtypes: float64(152)\n",
      "memory usage: 11.9 MB\n"
     ]
    }
   ],
   "source": [
    "data.info()"
   ]
  },
  {
   "cell_type": "code",
   "execution_count": 12,
   "metadata": {},
   "outputs": [
    {
     "data": {
      "text/plain": [
       "<AxesSubplot:xlabel='target', ylabel='Density'>"
      ]
     },
     "execution_count": 12,
     "metadata": {},
     "output_type": "execute_result"
    },
    {
     "data": {
      "image/png": "[encoded data removed]",
      "text/plain": [
       "<Figure size 720x540 with 1 Axes>"
      ]
     },
     "metadata": {
      "needs_background": "light"
     },
     "output_type": "display_data"
    }
   ],
   "source": [
    "#checking the data distribution of target variable for each class\n",
    "\n",
    "sns.distplot(data[\"target\"])"
   ]
  },
  {
   "cell_type": "code",
   "execution_count": 13,
   "metadata": {},
   "outputs": [
    {
     "data": {
      "text/plain": [
       "80        56\n",
       "40        17\n",
       "69        12\n",
       "75         9\n",
       "111        4\n",
       "          ..\n",
       "51         0\n",
       "52         0\n",
       "53         0\n",
       "54         0\n",
       "target     0\n",
       "Length: 152, dtype: int64"
      ]
     },
     "execution_count": 13,
     "metadata": {},
     "output_type": "execute_result"
    }
   ],
   "source": [
    "data.isnull().sum().sort_values(ascending=False)"
   ]
  },
  {
   "cell_type": "code",
   "execution_count": 14,
   "metadata": {},
   "outputs": [],
   "source": [
    "class_0 = data[data.target == 0]"
   ]
  },
  {
   "cell_type": "code",
   "execution_count": 15,
   "metadata": {},
   "outputs": [
    {
     "data": {
      "text/plain": [
       "80        55\n",
       "40        17\n",
       "69        12\n",
       "75         9\n",
       "111        3\n",
       "          ..\n",
       "51         0\n",
       "52         0\n",
       "53         0\n",
       "54         0\n",
       "target     0\n",
       "Length: 152, dtype: int64"
      ]
     },
     "execution_count": 15,
     "metadata": {},
     "output_type": "execute_result"
    }
   ],
   "source": [
    "#Checking null value in each class\n",
    "\n",
    "class_0.isnull().sum().sort_values(ascending=False)"
   ]
  },
  {
   "cell_type": "code",
   "execution_count": 16,
   "metadata": {},
   "outputs": [
    {
     "data": {
      "text/plain": [
       "<AxesSubplot:xlabel='80', ylabel='Density'>"
      ]
     },
     "execution_count": 16,
     "metadata": {},
     "output_type": "execute_result"
    },
    {
     "data": {
      "image/png": "[encoded data removed]",
      "text/plain": [
       "<Figure size 720x540 with 1 Axes>"
      ]
     },
     "metadata": {
      "needs_background": "light"
     },
     "output_type": "display_data"
    }
   ],
   "source": [
    "#class wise distribution of data for feature 80\n",
    "\n",
    "sns.distplot(data[\"80\"])"
   ]
  },
  {
   "cell_type": "code",
   "execution_count": 17,
   "metadata": {},
   "outputs": [
    {
     "data": {
      "text/plain": [
       "<AxesSubplot:xlabel='17', ylabel='Density'>"
      ]
     },
     "execution_count": 17,
     "metadata": {},
     "output_type": "execute_result"
    },
    {
     "data": {
      "image/png": "[encoded data removed]",
      "text/plain": [
       "<Figure size 720x540 with 1 Axes>"
      ]
     },
     "metadata": {
      "needs_background": "light"
     },
     "output_type": "display_data"
    }
   ],
   "source": [
    "#class wise distribution of data for feature 17\n",
    "sns.distplot(data[\"17\"])"
   ]
  },
  {
   "cell_type": "code",
   "execution_count": 18,
   "metadata": {},
   "outputs": [
    {
     "data": {
      "text/plain": [
       "<AxesSubplot:xlabel='12', ylabel='Density'>"
      ]
     },
     "execution_count": 18,
     "metadata": {},
     "output_type": "execute_result"
    },
    {
     "data": {
      "image/png": "[encoded data removed]",
      "text/plain": [
       "<Figure size 720x540 with 1 Axes>"
      ]
     },
     "metadata": {
      "needs_background": "light"
     },
     "output_type": "display_data"
    }
   ],
   "source": [
    "#class wise distribution of data for feature 12\n",
    "\n",
    "sns.distplot(data[\"12\"])"
   ]
  },
  {
   "cell_type": "code",
   "execution_count": 19,
   "metadata": {},
   "outputs": [
    {
     "data": {
      "text/plain": [
       "<AxesSubplot:xlabel='9', ylabel='Density'>"
      ]
     },
     "execution_count": 19,
     "metadata": {},
     "output_type": "execute_result"
    },
    {
     "data": {
      "image/png": "[encoded data removed]",
      "text/plain": [
       "<Figure size 720x540 with 1 Axes>"
      ]
     },
     "metadata": {
      "needs_background": "light"
     },
     "output_type": "display_data"
    }
   ],
   "source": [
    "#class wise distribution of data for feature 9\n",
    "\n",
    "sns.distplot(data[\"9\"])"
   ]
  },
  {
   "cell_type": "code",
   "execution_count": 20,
   "metadata": {},
   "outputs": [
    {
     "data": {
      "text/plain": [
       "<AxesSubplot:xlabel='4', ylabel='Density'>"
      ]
     },
     "execution_count": 20,
     "metadata": {},
     "output_type": "execute_result"
    },
    {
     "data": {
      "image/png": "[encoded data removed]",
      "text/plain": [
       "<Figure size 720x540 with 1 Axes>"
      ]
     },
     "metadata": {
      "needs_background": "light"
     },
     "output_type": "display_data"
    }
   ],
   "source": [
    "#class wise distribution of data for feature 4\n",
    "\n",
    "sns.distplot(data[\"4\"])"
   ]
  },
  {
   "cell_type": "code",
   "execution_count": 21,
   "metadata": {},
   "outputs": [
    {
     "data": {
      "text/plain": [
       "(10000, 152)"
      ]
     },
     "execution_count": 21,
     "metadata": {},
     "output_type": "execute_result"
    }
   ],
   "source": [
    "class_0.shape"
   ]
  },
  {
   "cell_type": "code",
   "execution_count": 22,
   "metadata": {},
   "outputs": [],
   "source": [
    "data.replace([np.inf, -np.inf], np.nan, inplace=True)\n",
    "data.fillna(data.mean().round(1), inplace=True)"
   ]
  },
  {
   "cell_type": "code",
   "execution_count": 23,
   "metadata": {},
   "outputs": [
    {
     "data": {
      "text/plain": [
       "0         0\n",
       "104       0\n",
       "97        0\n",
       "98        0\n",
       "99        0\n",
       "         ..\n",
       "51        0\n",
       "52        0\n",
       "53        0\n",
       "54        0\n",
       "target    0\n",
       "Length: 152, dtype: int64"
      ]
     },
     "execution_count": 23,
     "metadata": {},
     "output_type": "execute_result"
    }
   ],
   "source": [
    "data.isnull().sum().sort_values(ascending=False)"
   ]
  },
  {
   "cell_type": "code",
   "execution_count": 24,
   "metadata": {},
   "outputs": [],
   "source": [
    "# defining function for data audit report:-\n",
    "\n",
    "def var_summary(x):\n",
    "    return pd.Series([x.count(), x.isnull().sum(), x.sum(), x.mean(), x.median(),  x.std(), x.var(), x.min(), x.quantile(0.01), x.quantile(0.05),x.quantile(0.10),x.quantile(0.25),x.quantile(0.50),x.quantile(0.75), x.quantile(0.90),x.quantile(0.95), x.quantile(0.99),x.max()], \n",
    "                  index=['N', 'NMISS', 'SUM', 'MEAN','MEDIAN', 'STD', 'VAR', 'MIN', 'P1' , 'P5' ,'P10' ,'P25' ,'P50' ,'P75' ,'P90' ,'P95' ,'P99' ,'MAX'])"
   ]
  },
  {
   "cell_type": "code",
   "execution_count": 25,
   "metadata": {},
   "outputs": [
    {
     "data": {
      "text/html": [
       "<div>\n",
       "<style scoped>\n",
       "    .dataframe tbody tr th:only-of-type {\n",
       "        vertical-align: middle;\n",
       "    }\n",
       "\n",
       "    .dataframe tbody tr th {\n",
       "        vertical-align: top;\n",
       "    }\n",
       "\n",
       "    .dataframe thead th {\n",
       "        text-align: right;\n",
       "    }\n",
       "</style>\n",
       "<table border=\"1\" class=\"dataframe\">\n",
       "  <thead>\n",
       "    <tr style=\"text-align: right;\">\n",
       "      <th></th>\n",
       "      <th>N</th>\n",
       "      <th>NMISS</th>\n",
       "      <th>SUM</th>\n",
       "      <th>MEAN</th>\n",
       "      <th>MEDIAN</th>\n",
       "      <th>STD</th>\n",
       "      <th>VAR</th>\n",
       "      <th>MIN</th>\n",
       "      <th>P1</th>\n",
       "      <th>P5</th>\n",
       "      <th>P10</th>\n",
       "      <th>P25</th>\n",
       "      <th>P50</th>\n",
       "      <th>P75</th>\n",
       "      <th>P90</th>\n",
       "      <th>P95</th>\n",
       "      <th>P99</th>\n",
       "      <th>MAX</th>\n",
       "    </tr>\n",
       "  </thead>\n",
       "  <tbody>\n",
       "    <tr>\n",
       "      <th>0</th>\n",
       "      <td>10241.0</td>\n",
       "      <td>0.0</td>\n",
       "      <td>1310.616099</td>\n",
       "      <td>0.127977</td>\n",
       "      <td>-0.055867</td>\n",
       "      <td>2.018572</td>\n",
       "      <td>4.074632</td>\n",
       "      <td>-5.480920</td>\n",
       "      <td>-2.035705</td>\n",
       "      <td>-1.468409</td>\n",
       "      <td>-1.199527</td>\n",
       "      <td>-0.710242</td>\n",
       "      <td>-0.055867</td>\n",
       "      <td>0.694998</td>\n",
       "      <td>1.308277</td>\n",
       "      <td>1.694052</td>\n",
       "      <td>3.647899</td>\n",
       "      <td>57.246035</td>\n",
       "    </tr>\n",
       "    <tr>\n",
       "      <th>1</th>\n",
       "      <td>10241.0</td>\n",
       "      <td>0.0</td>\n",
       "      <td>-187.930000</td>\n",
       "      <td>-0.018351</td>\n",
       "      <td>-0.113000</td>\n",
       "      <td>0.597846</td>\n",
       "      <td>0.357419</td>\n",
       "      <td>-0.442000</td>\n",
       "      <td>-0.400000</td>\n",
       "      <td>-0.277000</td>\n",
       "      <td>-0.246000</td>\n",
       "      <td>-0.179000</td>\n",
       "      <td>-0.113000</td>\n",
       "      <td>-0.076000</td>\n",
       "      <td>-0.062000</td>\n",
       "      <td>1.100000</td>\n",
       "      <td>2.777000</td>\n",
       "      <td>8.995000</td>\n",
       "    </tr>\n",
       "    <tr>\n",
       "      <th>2</th>\n",
       "      <td>10241.0</td>\n",
       "      <td>0.0</td>\n",
       "      <td>-464.272000</td>\n",
       "      <td>-0.045335</td>\n",
       "      <td>-0.261000</td>\n",
       "      <td>0.637736</td>\n",
       "      <td>0.406707</td>\n",
       "      <td>-0.647000</td>\n",
       "      <td>-0.396000</td>\n",
       "      <td>-0.370000</td>\n",
       "      <td>-0.341000</td>\n",
       "      <td>-0.303000</td>\n",
       "      <td>-0.261000</td>\n",
       "      <td>-0.196000</td>\n",
       "      <td>1.227000</td>\n",
       "      <td>1.485000</td>\n",
       "      <td>2.524000</td>\n",
       "      <td>5.757000</td>\n",
       "    </tr>\n",
       "    <tr>\n",
       "      <th>3</th>\n",
       "      <td>10241.0</td>\n",
       "      <td>0.0</td>\n",
       "      <td>-167.973000</td>\n",
       "      <td>-0.016402</td>\n",
       "      <td>-0.028000</td>\n",
       "      <td>0.953677</td>\n",
       "      <td>0.909500</td>\n",
       "      <td>-2.989000</td>\n",
       "      <td>-2.070000</td>\n",
       "      <td>-1.487000</td>\n",
       "      <td>-1.263000</td>\n",
       "      <td>-0.773000</td>\n",
       "      <td>-0.028000</td>\n",
       "      <td>0.648000</td>\n",
       "      <td>1.242000</td>\n",
       "      <td>1.553000</td>\n",
       "      <td>2.121200</td>\n",
       "      <td>3.446000</td>\n",
       "    </tr>\n",
       "    <tr>\n",
       "      <th>4</th>\n",
       "      <td>10241.0</td>\n",
       "      <td>0.0</td>\n",
       "      <td>758.413000</td>\n",
       "      <td>0.074057</td>\n",
       "      <td>-0.282000</td>\n",
       "      <td>0.960843</td>\n",
       "      <td>0.923220</td>\n",
       "      <td>-0.517000</td>\n",
       "      <td>-0.401000</td>\n",
       "      <td>-0.344000</td>\n",
       "      <td>-0.338000</td>\n",
       "      <td>-0.310000</td>\n",
       "      <td>-0.282000</td>\n",
       "      <td>-0.239000</td>\n",
       "      <td>1.373000</td>\n",
       "      <td>2.298000</td>\n",
       "      <td>3.827000</td>\n",
       "      <td>9.443000</td>\n",
       "    </tr>\n",
       "    <tr>\n",
       "      <th>...</th>\n",
       "      <td>...</td>\n",
       "      <td>...</td>\n",
       "      <td>...</td>\n",
       "      <td>...</td>\n",
       "      <td>...</td>\n",
       "      <td>...</td>\n",
       "      <td>...</td>\n",
       "      <td>...</td>\n",
       "      <td>...</td>\n",
       "      <td>...</td>\n",
       "      <td>...</td>\n",
       "      <td>...</td>\n",
       "      <td>...</td>\n",
       "      <td>...</td>\n",
       "      <td>...</td>\n",
       "      <td>...</td>\n",
       "      <td>...</td>\n",
       "      <td>...</td>\n",
       "    </tr>\n",
       "    <tr>\n",
       "      <th>147</th>\n",
       "      <td>10241.0</td>\n",
       "      <td>0.0</td>\n",
       "      <td>-2006.341540</td>\n",
       "      <td>-0.195913</td>\n",
       "      <td>-0.188750</td>\n",
       "      <td>0.016852</td>\n",
       "      <td>0.000284</td>\n",
       "      <td>-0.225480</td>\n",
       "      <td>-0.224100</td>\n",
       "      <td>-0.222980</td>\n",
       "      <td>-0.221430</td>\n",
       "      <td>-0.215400</td>\n",
       "      <td>-0.188750</td>\n",
       "      <td>-0.181530</td>\n",
       "      <td>-0.178010</td>\n",
       "      <td>-0.176860</td>\n",
       "      <td>-0.175764</td>\n",
       "      <td>-0.174830</td>\n",
       "    </tr>\n",
       "    <tr>\n",
       "      <th>148</th>\n",
       "      <td>10241.0</td>\n",
       "      <td>0.0</td>\n",
       "      <td>-1229.198230</td>\n",
       "      <td>-0.120027</td>\n",
       "      <td>-0.120090</td>\n",
       "      <td>0.006041</td>\n",
       "      <td>0.000036</td>\n",
       "      <td>-0.134270</td>\n",
       "      <td>-0.130880</td>\n",
       "      <td>-0.129400</td>\n",
       "      <td>-0.128270</td>\n",
       "      <td>-0.125170</td>\n",
       "      <td>-0.120090</td>\n",
       "      <td>-0.114890</td>\n",
       "      <td>-0.111790</td>\n",
       "      <td>-0.110590</td>\n",
       "      <td>-0.109074</td>\n",
       "      <td>-0.105990</td>\n",
       "    </tr>\n",
       "    <tr>\n",
       "      <th>149</th>\n",
       "      <td>10241.0</td>\n",
       "      <td>0.0</td>\n",
       "      <td>515.189195</td>\n",
       "      <td>0.050307</td>\n",
       "      <td>0.050065</td>\n",
       "      <td>0.007461</td>\n",
       "      <td>0.000056</td>\n",
       "      <td>0.021371</td>\n",
       "      <td>0.033724</td>\n",
       "      <td>0.038611</td>\n",
       "      <td>0.041145</td>\n",
       "      <td>0.045284</td>\n",
       "      <td>0.050065</td>\n",
       "      <td>0.054958</td>\n",
       "      <td>0.059765</td>\n",
       "      <td>0.062744</td>\n",
       "      <td>0.069375</td>\n",
       "      <td>0.109032</td>\n",
       "    </tr>\n",
       "    <tr>\n",
       "      <th>150</th>\n",
       "      <td>10241.0</td>\n",
       "      <td>0.0</td>\n",
       "      <td>178731.857800</td>\n",
       "      <td>17.452579</td>\n",
       "      <td>17.453900</td>\n",
       "      <td>0.309245</td>\n",
       "      <td>0.095633</td>\n",
       "      <td>16.488000</td>\n",
       "      <td>16.773000</td>\n",
       "      <td>16.949300</td>\n",
       "      <td>17.050700</td>\n",
       "      <td>17.244000</td>\n",
       "      <td>17.453900</td>\n",
       "      <td>17.659600</td>\n",
       "      <td>17.838600</td>\n",
       "      <td>17.930100</td>\n",
       "      <td>18.158780</td>\n",
       "      <td>19.577500</td>\n",
       "    </tr>\n",
       "    <tr>\n",
       "      <th>target</th>\n",
       "      <td>10241.0</td>\n",
       "      <td>0.0</td>\n",
       "      <td>491.000000</td>\n",
       "      <td>0.047945</td>\n",
       "      <td>0.000000</td>\n",
       "      <td>0.348750</td>\n",
       "      <td>0.121627</td>\n",
       "      <td>0.000000</td>\n",
       "      <td>0.000000</td>\n",
       "      <td>0.000000</td>\n",
       "      <td>0.000000</td>\n",
       "      <td>0.000000</td>\n",
       "      <td>0.000000</td>\n",
       "      <td>0.000000</td>\n",
       "      <td>0.000000</td>\n",
       "      <td>0.000000</td>\n",
       "      <td>2.000000</td>\n",
       "      <td>4.000000</td>\n",
       "    </tr>\n",
       "  </tbody>\n",
       "</table>\n",
       "<p>152 rows × 18 columns</p>\n",
       "</div>"
      ],
      "text/plain": [
       "              N  NMISS            SUM       MEAN     MEDIAN       STD  \\\n",
       "0       10241.0    0.0    1310.616099   0.127977  -0.055867  2.018572   \n",
       "1       10241.0    0.0    -187.930000  -0.018351  -0.113000  0.597846   \n",
       "2       10241.0    0.0    -464.272000  -0.045335  -0.261000  0.637736   \n",
       "3       10241.0    0.0    -167.973000  -0.016402  -0.028000  0.953677   \n",
       "4       10241.0    0.0     758.413000   0.074057  -0.282000  0.960843   \n",
       "...         ...    ...            ...        ...        ...       ...   \n",
       "147     10241.0    0.0   -2006.341540  -0.195913  -0.188750  0.016852   \n",
       "148     10241.0    0.0   -1229.198230  -0.120027  -0.120090  0.006041   \n",
       "149     10241.0    0.0     515.189195   0.050307   0.050065  0.007461   \n",
       "150     10241.0    0.0  178731.857800  17.452579  17.453900  0.309245   \n",
       "target  10241.0    0.0     491.000000   0.047945   0.000000  0.348750   \n",
       "\n",
       "             VAR        MIN         P1         P5        P10        P25  \\\n",
       "0       4.074632  -5.480920  -2.035705  -1.468409  -1.199527  -0.710242   \n",
       "1       0.357419  -0.442000  -0.400000  -0.277000  -0.246000  -0.179000   \n",
       "2       0.406707  -0.647000  -0.396000  -0.370000  -0.341000  -0.303000   \n",
       "3       0.909500  -2.989000  -2.070000  -1.487000  -1.263000  -0.773000   \n",
       "4       0.923220  -0.517000  -0.401000  -0.344000  -0.338000  -0.310000   \n",
       "...          ...        ...        ...        ...        ...        ...   \n",
       "147     0.000284  -0.225480  -0.224100  -0.222980  -0.221430  -0.215400   \n",
       "148     0.000036  -0.134270  -0.130880  -0.129400  -0.128270  -0.125170   \n",
       "149     0.000056   0.021371   0.033724   0.038611   0.041145   0.045284   \n",
       "150     0.095633  16.488000  16.773000  16.949300  17.050700  17.244000   \n",
       "target  0.121627   0.000000   0.000000   0.000000   0.000000   0.000000   \n",
       "\n",
       "              P50        P75        P90        P95        P99        MAX  \n",
       "0       -0.055867   0.694998   1.308277   1.694052   3.647899  57.246035  \n",
       "1       -0.113000  -0.076000  -0.062000   1.100000   2.777000   8.995000  \n",
       "2       -0.261000  -0.196000   1.227000   1.485000   2.524000   5.757000  \n",
       "3       -0.028000   0.648000   1.242000   1.553000   2.121200   3.446000  \n",
       "4       -0.282000  -0.239000   1.373000   2.298000   3.827000   9.443000  \n",
       "...           ...        ...        ...        ...        ...        ...  \n",
       "147     -0.188750  -0.181530  -0.178010  -0.176860  -0.175764  -0.174830  \n",
       "148     -0.120090  -0.114890  -0.111790  -0.110590  -0.109074  -0.105990  \n",
       "149      0.050065   0.054958   0.059765   0.062744   0.069375   0.109032  \n",
       "150     17.453900  17.659600  17.838600  17.930100  18.158780  19.577500  \n",
       "target   0.000000   0.000000   0.000000   0.000000   2.000000   4.000000  \n",
       "\n",
       "[152 rows x 18 columns]"
      ]
     },
     "execution_count": 25,
     "metadata": {},
     "output_type": "execute_result"
    }
   ],
   "source": [
    "#Data description\n",
    "\n",
    "data.apply(var_summary).T"
   ]
  },
  {
   "cell_type": "code",
   "execution_count": null,
   "metadata": {},
   "outputs": [],
   "source": [
    "# #Corellation among the features to see the dependency among themselves.\n",
    "\n",
    "features = data.columns.to_list()\n",
    "correlation = data[features].corr()\n",
    "plt.figure(figsize = (20,20))\n",
    "sns.set(font_scale=1)\n",
    "sns.heatmap(correlation, cbar = True, annot=True, square = True,cmap=\"RdYlGn\", fmt = '.2f', xticklabels=features, yticklabels=features)\n",
    "plt.show();"
   ]
  },
  {
   "cell_type": "code",
   "execution_count": null,
   "metadata": {},
   "outputs": [],
   "source": [
    "#Feature set\n",
    "\n",
    "feature_set = data.drop(\"target\", axis = 1).columns.to_list()"
   ]
  },
  {
   "cell_type": "code",
   "execution_count": null,
   "metadata": {},
   "outputs": [],
   "source": [
    "len(feature_set)"
   ]
  },
  {
   "cell_type": "code",
   "execution_count": null,
   "metadata": {},
   "outputs": [],
   "source": [
    "# Creation of training /test sets\n",
    "\n",
    "train_x, test_x, train_y, test_y = train_test_split(data[feature_set], data.target, random_state=42, stratify=data.target)\n",
    "\n",
    "train_x.shape, train_y.shape, test_x.shape, test_y.shape"
   ]
  },
  {
   "cell_type": "code",
   "execution_count": null,
   "metadata": {},
   "outputs": [],
   "source": [
    "#Scaling the data as the range varry's for each features.\n",
    "\n",
    "scaler = StandardScaler()\n",
    "scaler.fit(train_x)\n",
    "train_x = scaler.transform(train_x)\n",
    "test_x = scaler.transform(test_x)"
   ]
  },
  {
   "cell_type": "code",
   "execution_count": null,
   "metadata": {},
   "outputs": [],
   "source": [
    "#shape of the training data to see the 25%, 75% division\n",
    "\n",
    "train_x.shape, test_x.shape"
   ]
  },
  {
   "cell_type": "code",
   "execution_count": null,
   "metadata": {},
   "outputs": [],
   "source": [
    "#Rendom forest classifier\n",
    "\n",
    "rf_model = RandomForestClassifier(n_estimators=100,random_state=42)            \n",
    "rf_model.fit(train_x, train_y)"
   ]
  },
  {
   "cell_type": "code",
   "execution_count": null,
   "metadata": {},
   "outputs": [],
   "source": [
    "#providing class weight for each xgboost algo\n",
    "\n",
    "classes_weights = class_weight.compute_sample_weight(class_weight = 'balanced', y = data.target)"
   ]
  },
  {
   "cell_type": "code",
   "execution_count": null,
   "metadata": {},
   "outputs": [],
   "source": [
    "xgb_model = XGBClassifier()\n",
    "xgb_model.fit( train_x, train_y)"
   ]
  },
  {
   "cell_type": "code",
   "execution_count": null,
   "metadata": {},
   "outputs": [],
   "source": [
    "#Predictions\n",
    "\n",
    "pred_y = rf_model.predict(test_x)\n"
   ]
  },
  {
   "cell_type": "code",
   "execution_count": null,
   "metadata": {},
   "outputs": [],
   "source": [
    "pred_y1 = xgb_model.predict(test_x)"
   ]
  },
  {
   "cell_type": "code",
   "execution_count": null,
   "metadata": {},
   "outputs": [],
   "source": [
    "#confusion matrix for RFC\n",
    "\n",
    "confusion = confusion_matrix(test_y, pred_y)\n",
    "print('Confusion Matrix\\n')\n",
    "print(confusion)\n",
    "\n",
    "#importing accuracy_score, precision_score, recall_score, f1_score\n",
    "from sklearn.metrics import accuracy_score, precision_score, recall_score, f1_score\n",
    "print('\\nAccuracy: {:.2f}\\n'.format(accuracy_score(test_y, pred_y)))\n",
    "\n",
    "print('Micro Precision: {:.2f}'.format(precision_score(test_y, pred_y, average='micro')))\n",
    "print('Micro Recall: {:.2f}'.format(recall_score(test_y, pred_y, average='micro')))\n",
    "print('Micro F1-score: {:.2f}\\n'.format(f1_score(test_y, pred_y, average='micro')))\n",
    "\n",
    "print('Macro Precision: {:.2f}'.format(precision_score(test_y, pred_y, average='macro')))\n",
    "print('Macro Recall: {:.2f}'.format(recall_score(test_y, pred_y, average='macro')))\n",
    "print('Macro F1-score: {:.2f}\\n'.format(f1_score(test_y, pred_y, average='macro')))\n",
    "\n",
    "print('Weighted Precision: {:.2f}'.format(precision_score(test_y, pred_y, average='weighted')))\n",
    "print('Weighted Recall: {:.2f}'.format(recall_score(test_y, pred_y, average='weighted')))\n",
    "print('Weighted F1-score: {:.2f}'.format(f1_score(test_y, pred_y, average='weighted')))\n",
    "\n",
    "from sklearn.metrics import classification_report\n",
    "print('\\nClassification Report\\n')\n",
    "print(classification_report(test_y, pred_y, target_names=['Class 1', 'Class 2', 'Class 3','Class 4','Class 5']))\n"
   ]
  },
  {
   "cell_type": "code",
   "execution_count": null,
   "metadata": {},
   "outputs": [],
   "source": [
    "#confusion matrix for XGBoost\n",
    "\n",
    "confusion = confusion_matrix(test_y, pred_y1)\n",
    "print('Confusion Matrix\\n')\n",
    "print(confusion)\n",
    "\n",
    "#importing accuracy_score, precision_score, recall_score, f1_score\n",
    "from sklearn.metrics import accuracy_score, precision_score, recall_score, f1_score\n",
    "print('\\nAccuracy: {:.2f}\\n'.format(accuracy_score(test_y, pred_y1)))\n",
    "\n",
    "print('Micro Precision: {:.2f}'.format(precision_score(test_y, pred_y1, average='micro')))\n",
    "print('Micro Recall: {:.2f}'.format(recall_score(test_y, pred_y1, average='micro')))\n",
    "print('Micro F1-score: {:.2f}\\n'.format(f1_score(test_y, pred_y1, average='micro')))\n",
    "\n",
    "print('Macro Precision: {:.2f}'.format(precision_score(test_y, pred_y1, average='macro')))\n",
    "print('Macro Recall: {:.2f}'.format(recall_score(test_y, pred_y1, average='macro')))\n",
    "print('Macro F1-score: {:.2f}\\n'.format(f1_score(test_y, pred_y1, average='macro')))\n",
    "\n",
    "print('Weighted Precision: {:.2f}'.format(precision_score(test_y, pred_y1, average='weighted')))\n",
    "print('Weighted Recall: {:.2f}'.format(recall_score(test_y, pred_y1, average='weighted')))\n",
    "print('Weighted F1-score: {:.2f}'.format(f1_score(test_y, pred_y1, average='weighted')))\n",
    "\n",
    "from sklearn.metrics import classification_report\n",
    "print('\\nClassification Report\\n')\n",
    "print(classification_report(test_y, pred_y1, target_names=['Class 1', 'Class 2', 'Class 3','Class 4','Class 5']))\n"
   ]
  },
  {
   "cell_type": "code",
   "execution_count": null,
   "metadata": {},
   "outputs": [],
   "source": [
    "data[feature_set].columns.to_list"
   ]
  },
  {
   "cell_type": "code",
   "execution_count": null,
   "metadata": {},
   "outputs": [],
   "source": [
    "rf_model.feature_importances_.shape"
   ]
  },
  {
   "cell_type": "code",
   "execution_count": null,
   "metadata": {},
   "outputs": [],
   "source": [
    "n_estimators = [10, 100, 500]\n",
    "max_depth = [5, 8, 25, 30]\n",
    "min_samples_split = [ 5, 10, 15]\n",
    "min_samples_leaf = [1, 2, 5] \n",
    "\n",
    "hyperF = dict(n_estimators = n_estimators, max_depth = max_depth,  \n",
    "              min_samples_split = min_samples_split, \n",
    "             min_samples_leaf = min_samples_leaf)\n",
    "\n",
    "gridF = GridSearchCV(rf_model, hyperF, cv = 3, verbose = 1, \n",
    "                      n_jobs = -1)\n",
    "bestF = gridF.fit(train_x, train_y)\n",
    "best_rf_model = bestF.best_estimator_\n",
    "pred_y_best = best_rf_model.predict(test_x)"
   ]
  },
  {
   "cell_type": "code",
   "execution_count": null,
   "metadata": {},
   "outputs": [],
   "source": [
    "#Hyperparameter tuning for finding the  confusion matrix for Best RF Model through Grid search\n",
    "\n",
    "confusion = confusion_matrix(test_y, pred_y_best)\n",
    "print('Confusion Matrix\\n')\n",
    "print(confusion)\n",
    "\n",
    "#importing accuracy_score, precision_score, recall_score, f1_score\n",
    "from sklearn.metrics import accuracy_score, precision_score, recall_score, f1_score\n",
    "print('\\nAccuracy: {:.2f}\\n'.format(accuracy_score(test_y, pred_y_best)))\n",
    "\n",
    "print('Micro Precision: {:.2f}'.format(precision_score(test_y, pred_y_best, average='micro')))\n",
    "print('Micro Recall: {:.2f}'.format(recall_score(test_y, pred_y_best, average='micro')))\n",
    "print('Micro F1-score: {:.2f}\\n'.format(f1_score(test_y, pred_y_best, average='micro')))\n",
    "\n",
    "print('Macro Precision: {:.2f}'.format(precision_score(test_y, pred_y_best, average='macro')))\n",
    "print('Macro Recall: {:.2f}'.format(recall_score(test_y, pred_y_best, average='macro')))\n",
    "print('Macro F1-score: {:.2f}\\n'.format(f1_score(test_y, pred_y_best, average='macro')))\n",
    "\n",
    "print('Weighted Precision: {:.2f}'.format(precision_score(test_y, pred_y_best, average='weighted')))\n",
    "print('Weighted Recall: {:.2f}'.format(recall_score(test_y, pred_y_best, average='weighted')))\n",
    "print('Weighted F1-score: {:.2f}'.format(f1_score(test_y, pred_y_best, average='weighted')))\n",
    "\n",
    "from sklearn.metrics import classification_report\n",
    "print('\\nClassification Report\\n')\n",
    "print(classification_report(test_y, pred_y_best, target_names=['Class 1', 'Class 2', 'Class 3','Class 4','Class 5']))\n"
   ]
  },
  {
   "cell_type": "code",
   "execution_count": null,
   "metadata": {},
   "outputs": [],
   "source": [
    "hyperxgb = {\"learning_rate\"    : [0.05, 0.10],\n",
    " \"max_depth\"        : [ 5, 10],\n",
    " \"min_child_weight\" : [ 1, 5 ],\n",
    " \"gamma\"            : [ 0.1, 0.3 ],\n",
    " \"colsample_bytree\" : [ 0.3, 0.5 ],\n",
    " \"n_estimators\"     : [300,500],\n",
    "           \n",
    "             \n",
    "}\n",
    "\n",
    "\n",
    "gridxgb = GridSearchCV(xgb_model, hyperxgb, scoring = 'roc_auc', cv = 3, verbose = True)\n",
    "bestxgb = gridxgb.fit(train_x, train_y)\n",
    "best_rf_model = bestxgb.best_estimator_\n",
    "pred_y1_best = best_rf_model.predict(test_x)\n"
   ]
  },
  {
   "cell_type": "code",
   "execution_count": null,
   "metadata": {},
   "outputs": [],
   "source": [
    "#Hyperparameter tuning for finding the confusion matrix for Best XGB Model\n",
    "\n",
    "confusion = confusion_matrix(test_y, pred_y1_best)\n",
    "print('Confusion Matrix\\n')\n",
    "print(confusion)\n",
    "\n",
    "#importing accuracy_score, precision_score, recall_score, f1_score\n",
    "from sklearn.metrics import accuracy_score, precision_score, recall_score, f1_score\n",
    "print('\\nAccuracy: {:.2f}\\n'.format(accuracy_score(test_y, pred_y1_best)))\n",
    "\n",
    "print('Micro Precision: {:.2f}'.format(precision_score(test_y, pred_y1_best, average='micro')))\n",
    "print('Micro Recall: {:.2f}'.format(recall_score(test_y, pred_y1_best, average='micro')))\n",
    "print('Micro F1-score: {:.2f}\\n'.format(f1_score(test_y, pred_y1_best, average='micro')))\n",
    "\n",
    "print('Macro Precision: {:.2f}'.format(precision_score(test_y, pred_y1_best, average='macro')))\n",
    "print('Macro Recall: {:.2f}'.format(recall_score(test_y, pred_y1_best, average='macro')))\n",
    "print('Macro F1-score: {:.2f}\\n'.format(f1_score(test_y, pred_y1_best, average='macro')))\n",
    "\n",
    "print('Weighted Precision: {:.2f}'.format(precision_score(test_y, pred_y1_best, average='weighted')))\n",
    "print('Weighted Recall: {:.2f}'.format(recall_score(test_y, pred_y1_best, average='weighted')))\n",
    "print('Weighted F1-score: {:.2f}'.format(f1_score(test_y, pred_y1_best, average='weighted')))\n",
    "\n",
    "from sklearn.metrics import classification_report\n",
    "print('\\nClassification Report\\n')\n",
    "print(classification_report(test_y, pred_y1_best, target_names=['Class 1', 'Class 2', 'Class 3','Class 4','Class 5']))"
   ]
  },
  {
   "cell_type": "code",
   "execution_count": null,
   "metadata": {},
   "outputs": [],
   "source": [
    "feature_imp=pd.DataFrame({\"var\": data[feature_set].columns.to_list(),\"importance\":rf_model.feature_importances_}).sort_values([\"importance\"],ascending=False)"
   ]
  },
  {
   "cell_type": "code",
   "execution_count": null,
   "metadata": {},
   "outputs": [],
   "source": [
    "plt.title('Feature Importance')\n",
    "importances = rf_model.feature_importances_\n",
    "sorted_indices = np.argsort(importances)[::-1]\n",
    "plt.bar(range(train_x.shape[1]), importances[sorted_indices], align='center')\n",
    "plt.xticks(range(train_x.shape[1]),  data[feature_set].columns[sorted_indices], rotation=90)\n",
    "plt.tight_layout()\n",
    "plt.show()"
   ]
  },
  {
   "cell_type": "code",
   "execution_count": null,
   "metadata": {},
   "outputs": [],
   "source": [
    "# save the model to disk\n",
    "path = \"../prediction_service/model\"\n",
    "filename = path + 'finalized_model.sav'\n",
    "pickle.dump(rf_model, open(filename, 'wb'))\n",
    " \n"
   ]
  },
  {
   "cell_type": "code",
   "execution_count": null,
   "metadata": {},
   "outputs": [],
   "source": [
    " \n",
    "# load the model from disk\n",
    "loaded_model = pickle.load(open(filename, 'rb'))\n",
    "result = loaded_model.score(test_x, test_y)\n",
    "print(result)"
   ]
  },
  {
   "cell_type": "code",
   "execution_count": null,
   "metadata": {},
   "outputs": [],
   "source": []
  },
  {
   "cell_type": "code",
   "execution_count": null,
   "metadata": {},
   "outputs": [],
   "source": []
  }
 ],
 "metadata": {
  "kernelspec": {
   "display_name": "Python 3",
   "language": "python",
   "name": "python3"
  },
  "language_info": {
   "codemirror_mode": {
    "name": "ipython",
    "version": 3
   },
   "file_extension": ".py",
   "mimetype": "text/x-python",
   "name": "python",
   "nbconvert_exporter": "python",
   "pygments_lexer": "ipython3",
   "version": "3.8.8"
  }
 },
 "nbformat": 4,
 "nbformat_minor": 2
}
